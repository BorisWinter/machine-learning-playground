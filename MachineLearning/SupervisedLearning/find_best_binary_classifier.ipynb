{
 "cells": [
  {
   "cell_type": "markdown",
   "metadata": {},
   "source": [
    "## Find the best binary classifier for a given dataset\n",
    "### Imports"
   ]
  },
  {
   "cell_type": "code",
   "execution_count": 1,
   "metadata": {},
   "outputs": [],
   "source": [
    "# Libraries\n",
    "import pandas as pd\n",
    "import numpy as np\n",
    "import sklearn.datasets as data\n",
    "from sklearn.model_selection import train_test_split, cross_validate\n",
    "from sklearn import linear_model\n",
    "import matplotlib.pyplot as plt\n",
    "import seaborn as sns\n",
    "\n",
    "# Algorithms\n",
    "from MachineLearning.SupervisedLearning.LogisticRegression.Classification.functions import *\n",
    "from MachineLearning.SupervisedLearning.NaiveBayes.Classification.functions import *\n",
    "from MachineLearning.SupervisedLearning.NearestNeighbors.Classification.functions import *\n",
    "from MachineLearning.SupervisedLearning.SVM.Classification.functions import *\n",
    "from MachineLearning.SupervisedLearning.DecisionTree.Classification.functions import *\n",
    "\n",
    "# Silence convergence warnings\n",
    "from sklearn.exceptions import ConvergenceWarning\n",
    "import warnings\n",
    "warnings.simplefilter(\"ignore\", category=ConvergenceWarning)\n",
    "\n"
   ]
  },
  {
   "cell_type": "markdown",
   "metadata": {},
   "source": [
    "### Load dataset"
   ]
  },
  {
   "cell_type": "code",
   "execution_count": 2,
   "metadata": {},
   "outputs": [],
   "source": [
    "X, y = data.load_breast_cancer(return_X_y=True)\n",
    "\n",
    "# Create train/test splits (train_test_split() automatically uses a stratified split based on class labels)\n",
    "X_train, X_test, y_train, y_test = \\\n",
    "    train_test_split(X, y, test_size=0.20, random_state=42)"
   ]
  },
  {
   "cell_type": "markdown",
   "metadata": {},
   "source": [
    "### Specify metrics\n",
    "Specify which metrics to judge the algorithm performance on. Options:\n",
    "- **Accuracy:**\n",
    "- **Precision:**\n",
    "- **Recall:**\n",
    "- **F1:**"
   ]
  },
  {
   "cell_type": "code",
   "execution_count": 3,
   "metadata": {},
   "outputs": [],
   "source": [
    "scoring = \"accuracy\"  # TODO: Add possibility of selecting multiple scoring functions"
   ]
  },
  {
   "cell_type": "markdown",
   "metadata": {},
   "source": [
    "### Set hyperparameter ranges"
   ]
  },
  {
   "cell_type": "code",
   "execution_count": 4,
   "metadata": {},
   "outputs": [],
   "source": [
    "logistic_regression_parameters = {\n",
    "    \"C_range\" : [0.001, 0.01, 0.1, 1, 10, 100, 1000]\n",
    "}\n",
    "\n",
    "naive_bayes_parameters = {\n",
    "    \"var_smoothing\" : [0.000000001, 0.00000001]\n",
    "}\n",
    "\n",
    "knn_parameters = {\n",
    "    \"k_range\": [i for i in range(1, 10)]\n",
    "}\n",
    "\n",
    "SVM_parameters = {\n",
    "    \"kernels\" : [\"linear\", \"poly\", \"rbf\", \"sigmoid\"],\n",
    "    \"C_range\": [0.001, 0.01, 0.1, 1, 10, 100, 1000]\n",
    "}\n",
    "\n",
    "decision_tree_parameters = {\n",
    "    \"criterion\" : [\"gini\", \"entropy\", \"log_loss\"],\n",
    "}\n"
   ]
  },
  {
   "cell_type": "markdown",
   "metadata": {},
   "source": [
    "### Run algorithms /w 10-fold cross-validation"
   ]
  },
  {
   "cell_type": "code",
   "execution_count": 5,
   "metadata": {},
   "outputs": [],
   "source": [
    "# Run logistic regression\n",
    "logistic_regression_results, logistic_regression_best_estimator, logistic_regression_best_score \\\n",
    "    = logistic_regression_gridsearch(X_train, y_train, logistic_regression_parameters, scoring=scoring)\n",
    "\n",
    "# Run Naive Bayes\n",
    "naive_bayes_results, naive_bayes_best_estimator, naive_bayes_best_score = naive_bayes_gridsearch(\n",
    "    X_train, y_train, naive_bayes_parameters, scoring=scoring)\n",
    "\n",
    "# Run k-NN\n",
    "knn_results, knn_best_estimator, knn_best_score = knn_gridsearch(\n",
    "    X_train, y_train, knn_parameters, scoring=scoring)\n",
    "\n",
    "# # Run SVM\n",
    "# SVM_results, SVM_best_estimator, SVM_best_score = SVM_gridsearch(\n",
    "#     X_train, y_train, SVM_parameters, scoring=scoring)\n",
    "\n",
    "# Run decision tree\n",
    "decision_tree_results, decision_tree_best_estimator, decision_tree_best_score = decision_tree_gridsearch(\n",
    "    X_train, y_train, decision_tree_parameters, scoring=scoring)\n",
    "\n"
   ]
  },
  {
   "cell_type": "markdown",
   "metadata": {},
   "source": [
    "### Assemble results"
   ]
  },
  {
   "cell_type": "code",
   "execution_count": 6,
   "metadata": {},
   "outputs": [],
   "source": [
    "all_results = {\n",
    "    \"logistic_regression\": pd.DataFrame(logistic_regression_results),\n",
    "    \"naive_bayes\": pd.DataFrame(naive_bayes_results),\n",
    "    \"nearest_neighbors\": pd.DataFrame(knn_results),\n",
    "    # \"SVM\": pd.DataFrame(SVM_results),\n",
    "    \"decision_tree\": pd.DataFrame(decision_tree_results)\n",
    "}\n",
    "\n",
    "best_results = [\n",
    "    [logistic_regression_best_estimator, logistic_regression_best_score],\n",
    "    [naive_bayes_best_estimator, naive_bayes_best_score],\n",
    "    [knn_best_estimator,knn_best_score],\n",
    "    # [SVM_best_estimator,SVM_best_score],\n",
    "    [decision_tree_best_estimator,decision_tree_best_score],\n",
    "]\n",
    "\n"
   ]
  },
  {
   "cell_type": "code",
   "execution_count": 7,
   "metadata": {},
   "outputs": [
    {
     "data": {
      "text/html": [
       "<div>\n",
       "<style scoped>\n",
       "    .dataframe tbody tr th:only-of-type {\n",
       "        vertical-align: middle;\n",
       "    }\n",
       "\n",
       "    .dataframe tbody tr th {\n",
       "        vertical-align: top;\n",
       "    }\n",
       "\n",
       "    .dataframe thead th {\n",
       "        text-align: right;\n",
       "    }\n",
       "</style>\n",
       "<table border=\"1\" class=\"dataframe\">\n",
       "  <thead>\n",
       "    <tr style=\"text-align: right;\">\n",
       "      <th></th>\n",
       "      <th>mean_fit_time</th>\n",
       "      <th>std_fit_time</th>\n",
       "      <th>mean_score_time</th>\n",
       "      <th>std_score_time</th>\n",
       "      <th>param_criterion</th>\n",
       "      <th>params</th>\n",
       "      <th>mean_test_score</th>\n",
       "      <th>std_test_score</th>\n",
       "      <th>rank_test_score</th>\n",
       "      <th>mean_train_score</th>\n",
       "      <th>std_train_score</th>\n",
       "    </tr>\n",
       "  </thead>\n",
       "  <tbody>\n",
       "    <tr>\n",
       "      <th>0</th>\n",
       "      <td>0.0051</td>\n",
       "      <td>0.000538</td>\n",
       "      <td>0.0005</td>\n",
       "      <td>0.0005</td>\n",
       "      <td>gini</td>\n",
       "      <td>{'criterion': 'gini'}</td>\n",
       "      <td>0.929758</td>\n",
       "      <td>0.043590</td>\n",
       "      <td>1</td>\n",
       "      <td>1.0</td>\n",
       "      <td>0.0</td>\n",
       "    </tr>\n",
       "    <tr>\n",
       "      <th>1</th>\n",
       "      <td>0.0070</td>\n",
       "      <td>0.002144</td>\n",
       "      <td>0.0005</td>\n",
       "      <td>0.0005</td>\n",
       "      <td>entropy</td>\n",
       "      <td>{'criterion': 'entropy'}</td>\n",
       "      <td>0.920821</td>\n",
       "      <td>0.042059</td>\n",
       "      <td>2</td>\n",
       "      <td>1.0</td>\n",
       "      <td>0.0</td>\n",
       "    </tr>\n",
       "    <tr>\n",
       "      <th>2</th>\n",
       "      <td>0.0066</td>\n",
       "      <td>0.000664</td>\n",
       "      <td>0.0005</td>\n",
       "      <td>0.0005</td>\n",
       "      <td>log_loss</td>\n",
       "      <td>{'criterion': 'log_loss'}</td>\n",
       "      <td>0.920821</td>\n",
       "      <td>0.042059</td>\n",
       "      <td>2</td>\n",
       "      <td>1.0</td>\n",
       "      <td>0.0</td>\n",
       "    </tr>\n",
       "  </tbody>\n",
       "</table>\n",
       "</div>"
      ],
      "text/plain": [
       "   mean_fit_time  std_fit_time  mean_score_time  std_score_time  \\\n",
       "0         0.0051      0.000538           0.0005          0.0005   \n",
       "1         0.0070      0.002144           0.0005          0.0005   \n",
       "2         0.0066      0.000664           0.0005          0.0005   \n",
       "\n",
       "  param_criterion                     params  mean_test_score  std_test_score  \\\n",
       "0            gini      {'criterion': 'gini'}         0.929758        0.043590   \n",
       "1         entropy   {'criterion': 'entropy'}         0.920821        0.042059   \n",
       "2        log_loss  {'criterion': 'log_loss'}         0.920821        0.042059   \n",
       "\n",
       "   rank_test_score  mean_train_score  std_train_score  \n",
       "0                1               1.0              0.0  \n",
       "1                2               1.0              0.0  \n",
       "2                2               1.0              0.0  "
      ]
     },
     "execution_count": 7,
     "metadata": {},
     "output_type": "execute_result"
    }
   ],
   "source": [
    "split_columns = [f\"split{i}_train_score\" for i in range(10)]\n",
    "split_columns.extend([f\"split{i}_test_score\" for i in range(10)])\n",
    "all_results[\"decision_tree\"].drop(split_columns, axis=1)"
   ]
  },
  {
   "cell_type": "markdown",
   "metadata": {},
   "source": [
    "### Obtain best performance per algorithm"
   ]
  },
  {
   "cell_type": "code",
   "execution_count": 8,
   "metadata": {},
   "outputs": [],
   "source": [
    "df_best_results = pd.DataFrame(best_results, columns = [\"Estimator\", \"Score\"])\n",
    "# df.columns = [\"Estimator\", \"Score\"]"
   ]
  },
  {
   "cell_type": "code",
   "execution_count": 9,
   "metadata": {},
   "outputs": [
    {
     "data": {
      "text/html": [
       "<div>\n",
       "<style scoped>\n",
       "    .dataframe tbody tr th:only-of-type {\n",
       "        vertical-align: middle;\n",
       "    }\n",
       "\n",
       "    .dataframe tbody tr th {\n",
       "        vertical-align: top;\n",
       "    }\n",
       "\n",
       "    .dataframe thead th {\n",
       "        text-align: right;\n",
       "    }\n",
       "</style>\n",
       "<table border=\"1\" class=\"dataframe\">\n",
       "  <thead>\n",
       "    <tr style=\"text-align: right;\">\n",
       "      <th></th>\n",
       "      <th>Estimator</th>\n",
       "      <th>Score</th>\n",
       "    </tr>\n",
       "  </thead>\n",
       "  <tbody>\n",
       "    <tr>\n",
       "      <th>0</th>\n",
       "      <td>LogisticRegression(C=10)</td>\n",
       "      <td>0.951643</td>\n",
       "    </tr>\n",
       "    <tr>\n",
       "      <th>1</th>\n",
       "      <td>GaussianNB()</td>\n",
       "      <td>0.934010</td>\n",
       "    </tr>\n",
       "    <tr>\n",
       "      <th>2</th>\n",
       "      <td>KNeighborsClassifier(n_neighbors=3)</td>\n",
       "      <td>0.927391</td>\n",
       "    </tr>\n",
       "    <tr>\n",
       "      <th>3</th>\n",
       "      <td>DecisionTreeClassifier(random_state=42)</td>\n",
       "      <td>0.929758</td>\n",
       "    </tr>\n",
       "  </tbody>\n",
       "</table>\n",
       "</div>"
      ],
      "text/plain": [
       "                                 Estimator     Score\n",
       "0                 LogisticRegression(C=10)  0.951643\n",
       "1                             GaussianNB()  0.934010\n",
       "2      KNeighborsClassifier(n_neighbors=3)  0.927391\n",
       "3  DecisionTreeClassifier(random_state=42)  0.929758"
      ]
     },
     "execution_count": 9,
     "metadata": {},
     "output_type": "execute_result"
    }
   ],
   "source": [
    "df_best_results\n"
   ]
  },
  {
   "cell_type": "code",
   "execution_count": null,
   "metadata": {},
   "outputs": [],
   "source": []
  },
  {
   "cell_type": "markdown",
   "metadata": {},
   "source": [
    "### Compare performance"
   ]
  }
 ],
 "metadata": {
  "kernelspec": {
   "display_name": "Python 3.9.13 ('playground-ml')",
   "language": "python",
   "name": "python3"
  },
  "language_info": {
   "codemirror_mode": {
    "name": "ipython",
    "version": 3
   },
   "file_extension": ".py",
   "mimetype": "text/x-python",
   "name": "python",
   "nbconvert_exporter": "python",
   "pygments_lexer": "ipython3",
   "version": "3.9.13"
  },
  "orig_nbformat": 4,
  "vscode": {
   "interpreter": {
    "hash": "4fcf7c577f4d8a0a88dd1d29fcd2249d75a136f78395d126f08af202e95ef867"
   }
  }
 },
 "nbformat": 4,
 "nbformat_minor": 2
}
