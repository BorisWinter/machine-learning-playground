{
 "cells": [
  {
   "cell_type": "markdown",
   "metadata": {},
   "source": [
    "## Find the best binary classifier for a given dataset\n",
    "### Imports"
   ]
  },
  {
   "cell_type": "code",
   "execution_count": 1,
   "metadata": {},
   "outputs": [],
   "source": [
    "# Libraries\n",
    "import pandas as pd\n",
    "import numpy as np\n",
    "import sklearn.datasets as data\n",
    "from sklearn.model_selection import train_test_split, cross_validate\n",
    "from sklearn import linear_model\n",
    "import matplotlib.pyplot as plt\n",
    "import seaborn as sns\n",
    "\n",
    "# Algorithms\n",
    "from MachineLearning.SupervisedLearning.NearestNeighbors.Classification.functions import *\n"
   ]
  },
  {
   "cell_type": "markdown",
   "metadata": {},
   "source": [
    "### Load dataset"
   ]
  },
  {
   "cell_type": "code",
   "execution_count": 2,
   "metadata": {},
   "outputs": [],
   "source": [
    "X, y = data.load_breast_cancer(return_X_y=True)\n",
    "\n",
    "# Create train/test splits (train_test_split() automatically uses a stratified split based on class labels)\n",
    "X_train, X_test, y_train, y_test = \\\n",
    "    train_test_split(X, y, test_size=0.20, random_state=42)"
   ]
  },
  {
   "cell_type": "markdown",
   "metadata": {},
   "source": [
    "### Specify metrics\n",
    "Specify which metrics to judge the algorithm performance on. Options:\n",
    "- **Accuracy:**\n",
    "- **Precision:**\n",
    "- **Recall:**\n",
    "- **F1:**"
   ]
  },
  {
   "cell_type": "code",
   "execution_count": 3,
   "metadata": {},
   "outputs": [],
   "source": [
    "# TODO: Split classfication between binary and multi-class\n",
    "scoring = \"accuracy\"  # TODO: Add possibility of selecting multiple scoring functions"
   ]
  },
  {
   "cell_type": "markdown",
   "metadata": {},
   "source": [
    "### Set hyperparameter ranges"
   ]
  },
  {
   "cell_type": "code",
   "execution_count": 4,
   "metadata": {},
   "outputs": [],
   "source": [
    "knn_parameters = {\n",
    "    \"k_range\": [i for i in range(1, 10)]\n",
    "}"
   ]
  },
  {
   "cell_type": "markdown",
   "metadata": {},
   "source": [
    "### Run algorithms /w 10-fold cross-validation"
   ]
  },
  {
   "cell_type": "code",
   "execution_count": 5,
   "metadata": {},
   "outputs": [],
   "source": [
    "# Run k-NN\n",
    "knn_results, knn_best_estimator, knn_best_score = knn_gridsearch(\n",
    "    X_train, y_train, knn_parameters, scoring=scoring)\n",
    "\n"
   ]
  },
  {
   "cell_type": "markdown",
   "metadata": {},
   "source": [
    "### Assemble results"
   ]
  },
  {
   "cell_type": "code",
   "execution_count": 6,
   "metadata": {},
   "outputs": [],
   "source": [
    "all_results = {\n",
    "    \"nearest_neighbors\": pd.DataFrame(knn_results)\n",
    "}\n",
    "\n",
    "best_results = [\n",
    "    [knn_best_estimator,knn_best_score],\n",
    "]\n",
    "\n"
   ]
  },
  {
   "cell_type": "code",
   "execution_count": 7,
   "metadata": {},
   "outputs": [
    {
     "data": {
      "text/html": [
       "<div>\n",
       "<style scoped>\n",
       "    .dataframe tbody tr th:only-of-type {\n",
       "        vertical-align: middle;\n",
       "    }\n",
       "\n",
       "    .dataframe tbody tr th {\n",
       "        vertical-align: top;\n",
       "    }\n",
       "\n",
       "    .dataframe thead th {\n",
       "        text-align: right;\n",
       "    }\n",
       "</style>\n",
       "<table border=\"1\" class=\"dataframe\">\n",
       "  <thead>\n",
       "    <tr style=\"text-align: right;\">\n",
       "      <th></th>\n",
       "      <th>mean_fit_time</th>\n",
       "      <th>std_fit_time</th>\n",
       "      <th>mean_score_time</th>\n",
       "      <th>std_score_time</th>\n",
       "      <th>param_n_neighbors</th>\n",
       "      <th>params</th>\n",
       "      <th>mean_test_score</th>\n",
       "      <th>std_test_score</th>\n",
       "      <th>rank_test_score</th>\n",
       "      <th>mean_train_score</th>\n",
       "      <th>std_train_score</th>\n",
       "    </tr>\n",
       "  </thead>\n",
       "  <tbody>\n",
       "    <tr>\n",
       "      <th>0</th>\n",
       "      <td>0.000500</td>\n",
       "      <td>0.000500</td>\n",
       "      <td>0.015901</td>\n",
       "      <td>0.033372</td>\n",
       "      <td>1</td>\n",
       "      <td>{'n_neighbors': 1}</td>\n",
       "      <td>0.911787</td>\n",
       "      <td>0.047581</td>\n",
       "      <td>7</td>\n",
       "      <td>1.000000</td>\n",
       "      <td>0.000000</td>\n",
       "    </tr>\n",
       "    <tr>\n",
       "      <th>1</th>\n",
       "      <td>0.000200</td>\n",
       "      <td>0.000401</td>\n",
       "      <td>0.004700</td>\n",
       "      <td>0.000901</td>\n",
       "      <td>2</td>\n",
       "      <td>{'n_neighbors': 2}</td>\n",
       "      <td>0.903140</td>\n",
       "      <td>0.034685</td>\n",
       "      <td>9</td>\n",
       "      <td>0.964586</td>\n",
       "      <td>0.006321</td>\n",
       "    </tr>\n",
       "    <tr>\n",
       "      <th>2</th>\n",
       "      <td>0.000300</td>\n",
       "      <td>0.000459</td>\n",
       "      <td>0.004801</td>\n",
       "      <td>0.000600</td>\n",
       "      <td>3</td>\n",
       "      <td>{'n_neighbors': 3}</td>\n",
       "      <td>0.927391</td>\n",
       "      <td>0.047329</td>\n",
       "      <td>1</td>\n",
       "      <td>0.949207</td>\n",
       "      <td>0.004853</td>\n",
       "    </tr>\n",
       "    <tr>\n",
       "      <th>3</th>\n",
       "      <td>0.000400</td>\n",
       "      <td>0.000490</td>\n",
       "      <td>0.004401</td>\n",
       "      <td>0.000490</td>\n",
       "      <td>4</td>\n",
       "      <td>{'n_neighbors': 4}</td>\n",
       "      <td>0.909662</td>\n",
       "      <td>0.039119</td>\n",
       "      <td>8</td>\n",
       "      <td>0.946030</td>\n",
       "      <td>0.005942</td>\n",
       "    </tr>\n",
       "    <tr>\n",
       "      <th>4</th>\n",
       "      <td>0.000300</td>\n",
       "      <td>0.000458</td>\n",
       "      <td>0.004101</td>\n",
       "      <td>0.000299</td>\n",
       "      <td>5</td>\n",
       "      <td>{'n_neighbors': 5}</td>\n",
       "      <td>0.918502</td>\n",
       "      <td>0.047465</td>\n",
       "      <td>4</td>\n",
       "      <td>0.940169</td>\n",
       "      <td>0.005931</td>\n",
       "    </tr>\n",
       "    <tr>\n",
       "      <th>5</th>\n",
       "      <td>0.000400</td>\n",
       "      <td>0.000490</td>\n",
       "      <td>0.004800</td>\n",
       "      <td>0.000747</td>\n",
       "      <td>6</td>\n",
       "      <td>{'n_neighbors': 6}</td>\n",
       "      <td>0.914251</td>\n",
       "      <td>0.041091</td>\n",
       "      <td>6</td>\n",
       "      <td>0.936262</td>\n",
       "      <td>0.006529</td>\n",
       "    </tr>\n",
       "    <tr>\n",
       "      <th>6</th>\n",
       "      <td>0.000400</td>\n",
       "      <td>0.000490</td>\n",
       "      <td>0.005200</td>\n",
       "      <td>0.001535</td>\n",
       "      <td>7</td>\n",
       "      <td>{'n_neighbors': 7}</td>\n",
       "      <td>0.920676</td>\n",
       "      <td>0.050549</td>\n",
       "      <td>2</td>\n",
       "      <td>0.938704</td>\n",
       "      <td>0.006143</td>\n",
       "    </tr>\n",
       "    <tr>\n",
       "      <th>7</th>\n",
       "      <td>0.000401</td>\n",
       "      <td>0.000664</td>\n",
       "      <td>0.004299</td>\n",
       "      <td>0.000458</td>\n",
       "      <td>8</td>\n",
       "      <td>{'n_neighbors': 8}</td>\n",
       "      <td>0.920676</td>\n",
       "      <td>0.047528</td>\n",
       "      <td>2</td>\n",
       "      <td>0.936995</td>\n",
       "      <td>0.006984</td>\n",
       "    </tr>\n",
       "    <tr>\n",
       "      <th>8</th>\n",
       "      <td>0.000400</td>\n",
       "      <td>0.000490</td>\n",
       "      <td>0.004401</td>\n",
       "      <td>0.000665</td>\n",
       "      <td>9</td>\n",
       "      <td>{'n_neighbors': 9}</td>\n",
       "      <td>0.918502</td>\n",
       "      <td>0.049287</td>\n",
       "      <td>4</td>\n",
       "      <td>0.932112</td>\n",
       "      <td>0.005213</td>\n",
       "    </tr>\n",
       "  </tbody>\n",
       "</table>\n",
       "</div>"
      ],
      "text/plain": [
       "   mean_fit_time  std_fit_time  mean_score_time  std_score_time  \\\n",
       "0       0.000500      0.000500         0.015901        0.033372   \n",
       "1       0.000200      0.000401         0.004700        0.000901   \n",
       "2       0.000300      0.000459         0.004801        0.000600   \n",
       "3       0.000400      0.000490         0.004401        0.000490   \n",
       "4       0.000300      0.000458         0.004101        0.000299   \n",
       "5       0.000400      0.000490         0.004800        0.000747   \n",
       "6       0.000400      0.000490         0.005200        0.001535   \n",
       "7       0.000401      0.000664         0.004299        0.000458   \n",
       "8       0.000400      0.000490         0.004401        0.000665   \n",
       "\n",
       "  param_n_neighbors              params  mean_test_score  std_test_score  \\\n",
       "0                 1  {'n_neighbors': 1}         0.911787        0.047581   \n",
       "1                 2  {'n_neighbors': 2}         0.903140        0.034685   \n",
       "2                 3  {'n_neighbors': 3}         0.927391        0.047329   \n",
       "3                 4  {'n_neighbors': 4}         0.909662        0.039119   \n",
       "4                 5  {'n_neighbors': 5}         0.918502        0.047465   \n",
       "5                 6  {'n_neighbors': 6}         0.914251        0.041091   \n",
       "6                 7  {'n_neighbors': 7}         0.920676        0.050549   \n",
       "7                 8  {'n_neighbors': 8}         0.920676        0.047528   \n",
       "8                 9  {'n_neighbors': 9}         0.918502        0.049287   \n",
       "\n",
       "   rank_test_score  mean_train_score  std_train_score  \n",
       "0                7          1.000000         0.000000  \n",
       "1                9          0.964586         0.006321  \n",
       "2                1          0.949207         0.004853  \n",
       "3                8          0.946030         0.005942  \n",
       "4                4          0.940169         0.005931  \n",
       "5                6          0.936262         0.006529  \n",
       "6                2          0.938704         0.006143  \n",
       "7                2          0.936995         0.006984  \n",
       "8                4          0.932112         0.005213  "
      ]
     },
     "execution_count": 7,
     "metadata": {},
     "output_type": "execute_result"
    }
   ],
   "source": [
    "split_columns = [f\"split{i}_train_score\" for i in range(10)]\n",
    "split_columns.extend([f\"split{i}_test_score\" for i in range(10)])\n",
    "all_results[\"nearest_neighbors\"].drop(split_columns, axis=1)"
   ]
  },
  {
   "cell_type": "markdown",
   "metadata": {},
   "source": [
    "### Obtain best performance per algorithm"
   ]
  },
  {
   "cell_type": "code",
   "execution_count": 8,
   "metadata": {},
   "outputs": [],
   "source": [
    "df_best_results = pd.DataFrame(best_results, columns = [\"Estimator\", \"Score\"])\n",
    "# df.columns = [\"Estimator\", \"Score\"]"
   ]
  },
  {
   "cell_type": "code",
   "execution_count": 9,
   "metadata": {},
   "outputs": [
    {
     "data": {
      "text/html": [
       "<div>\n",
       "<style scoped>\n",
       "    .dataframe tbody tr th:only-of-type {\n",
       "        vertical-align: middle;\n",
       "    }\n",
       "\n",
       "    .dataframe tbody tr th {\n",
       "        vertical-align: top;\n",
       "    }\n",
       "\n",
       "    .dataframe thead th {\n",
       "        text-align: right;\n",
       "    }\n",
       "</style>\n",
       "<table border=\"1\" class=\"dataframe\">\n",
       "  <thead>\n",
       "    <tr style=\"text-align: right;\">\n",
       "      <th></th>\n",
       "      <th>Estimator</th>\n",
       "      <th>Score</th>\n",
       "    </tr>\n",
       "  </thead>\n",
       "  <tbody>\n",
       "    <tr>\n",
       "      <th>0</th>\n",
       "      <td>KNeighborsClassifier(n_neighbors=3)</td>\n",
       "      <td>0.927391</td>\n",
       "    </tr>\n",
       "  </tbody>\n",
       "</table>\n",
       "</div>"
      ],
      "text/plain": [
       "                             Estimator     Score\n",
       "0  KNeighborsClassifier(n_neighbors=3)  0.927391"
      ]
     },
     "execution_count": 9,
     "metadata": {},
     "output_type": "execute_result"
    }
   ],
   "source": [
    "df_best_results\n"
   ]
  },
  {
   "cell_type": "code",
   "execution_count": null,
   "metadata": {},
   "outputs": [],
   "source": []
  },
  {
   "cell_type": "markdown",
   "metadata": {},
   "source": [
    "### Compare performance"
   ]
  }
 ],
 "metadata": {
  "kernelspec": {
   "display_name": "Python 3.9.13 ('playground-ml')",
   "language": "python",
   "name": "python3"
  },
  "language_info": {
   "codemirror_mode": {
    "name": "ipython",
    "version": 3
   },
   "file_extension": ".py",
   "mimetype": "text/x-python",
   "name": "python",
   "nbconvert_exporter": "python",
   "pygments_lexer": "ipython3",
   "version": "3.9.13"
  },
  "orig_nbformat": 4,
  "vscode": {
   "interpreter": {
    "hash": "4fcf7c577f4d8a0a88dd1d29fcd2249d75a136f78395d126f08af202e95ef867"
   }
  }
 },
 "nbformat": 4,
 "nbformat_minor": 2
}
