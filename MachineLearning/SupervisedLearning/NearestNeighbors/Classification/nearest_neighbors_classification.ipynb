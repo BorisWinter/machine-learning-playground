{
 "cells": [
  {
   "cell_type": "code",
   "execution_count": 1,
   "metadata": {},
   "outputs": [],
   "source": [
    "# Imports\n",
    "from sklearn.neighbors import KNeighborsClassifier\n",
    "import pandas as pd\n",
    "from sklearn.model_selection import StratifiedKFold\n",
    "from sklearn.model_selection import GridSearchCV\n",
    "from sklearn.model_selection import cross_val_score, cross_validate\n",
    "from sklearn.metrics import accuracy_score, f1_score\n",
    "\n",
    "\n",
    "\n",
    "def knn(train_data, train_labels, test_data, test_labels, k):\n",
    "    \"\"\"\n",
    "    Performs k-NN on the given data.\n",
    "    \"\"\"\n",
    "\n",
    "    neighbours = KNeighborsClassifier(n_neighbors=k)\n",
    "    neighbours.fit(train_data, train_labels)\n",
    "    pred_labels = neighbours.predict(test_data)\n",
    "\n",
    "    acc = accuracy_score(test_labels, pred_labels)\n",
    "    f1 = f1_score(test_labels, pred_labels, average=\"weighted\")\n",
    "\n",
    "    return acc, f1, pred_labels\n",
    "\n",
    "\n",
    "def knn_cross_validation(data, labels, k):\n",
    "    \"\"\"\n",
    "    Evaluates k-NN using 10-fold cross validation on the given data.\n",
    "    \"\"\"\n",
    "\n",
    "    # Cross validation settings\n",
    "    kf = StratifiedKFold(n_splits = 10, random_state = 1, shuffle=True)\n",
    "\n",
    "    # Create the k-NN classifier\n",
    "    clf = KNeighborsClassifier(n_neighbors=k)\n",
    "\n",
    "    result = cross_validate(clf, data, labels, cv=kf, scoring=[\"accuracy\", \"f1_weighted\"])\n",
    "    test_acc = result[\"test_accuracy\"].mean()\n",
    "    test_f1 = result[\"test_f1_weighted\"].mean()\n",
    "\n",
    "    return test_acc, test_f1\n",
    "\n",
    "\n",
    "def knn_gridsearch(data, labels, k_range, n_splits = 10):\n",
    "    \"\"\"\n",
    "    knn_gridsearch()\n",
    "     - Performs gridsearch for kNN on the given data.\n",
    "    \"\"\"\n",
    "\n",
    "    # Create dataframe for storage\n",
    "    knn_results = pd.DataFrame([], columns = [\"param_n_neighbors\", \"mean_train_score\", \"mean_test_score\"])\n",
    "\n",
    "    # Cross validation settings\n",
    "    kf = StratifiedKFold(n_splits = n_splits, random_state = 1, shuffle=True)\n",
    "\n",
    "    # Define the model\n",
    "    knn_model = KNeighborsClassifier()\n",
    "    parameters = {'n_neighbors':[i for i in k_range]}\n",
    "\n",
    "    clf = GridSearchCV(knn_model, parameters, cv=kf, return_train_score=True)\n",
    "    clf.fit(data, labels)\n",
    "\n",
    "    df = pd.DataFrame(clf.cv_results_)\n",
    "    knn_results = pd.concat([knn_results,df])\n",
    "    knn_results = knn_results.sort_values(by=['mean_test_score'], ascending=False)\n",
    "\n",
    "    return knn_results"
   ]
  }
 ],
 "metadata": {
  "kernelspec": {
   "display_name": "Python 3.9.13 ('playground-ml')",
   "language": "python",
   "name": "python3"
  },
  "language_info": {
   "codemirror_mode": {
    "name": "ipython",
    "version": 3
   },
   "file_extension": ".py",
   "mimetype": "text/x-python",
   "name": "python",
   "nbconvert_exporter": "python",
   "pygments_lexer": "ipython3",
   "version": "3.9.13"
  },
  "orig_nbformat": 4,
  "vscode": {
   "interpreter": {
    "hash": "4fcf7c577f4d8a0a88dd1d29fcd2249d75a136f78395d126f08af202e95ef867"
   }
  }
 },
 "nbformat": 4,
 "nbformat_minor": 2
}
